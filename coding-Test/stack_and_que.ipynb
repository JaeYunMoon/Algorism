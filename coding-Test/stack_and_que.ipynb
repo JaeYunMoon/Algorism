{
 "cells": [
  {
   "cell_type": "code",
   "execution_count": 2,
   "metadata": {},
   "outputs": [],
   "source": [
    "import os \n",
    "from typing import List,Dict "
   ]
  },
  {
   "cell_type": "markdown",
   "metadata": {},
   "source": [
    "# 스택과 큐 \n",
    "- 스택 Last in First out (후입선출)\n",
    "- 큐 First in First out (선입선출)\n",
    "\n",
    "파이썬은 스택 자료형을 별도로 제공하지 않음 리스트가 사실상, 스택의 모든 연산을 지원한다.    \n",
    "\n",
    "큐 또한 리스트가 큐의 모든 연산을 지원 한다. 다만 리스트는 동적배열로 구현이 되어 있어 큐의 연산을 수행하기에는 효율적이지 않기 때문에 \n",
    "`collections.deque` 자료형을 사용한다. \n",
    "\n",
    "스택 추상 자료형(ADT - Abstract Data Type)을 연결 리스트로 구현 -> 물리 메모리 상에는 순서와 관계없이 여기저기에 무작위로 배치되고 포인터로 가리키게 될 것이다. \n",
    "\n",
    "## 연결리스트를 활용하여 스택ADT(추상 자료형-Abstract Data Type)을 구현하라 "
   ]
  },
  {
   "cell_type": "code",
   "execution_count": 3,
   "metadata": {},
   "outputs": [],
   "source": [
    "#연결 리스트를 이용해 실제로 스택을 한번 구현해 보자. \n",
    "# 먼저 다음과 같이 연결 리스트를 담을 Node 클래스부터 정의한다. \n",
    "class Node:\n",
    "    def __init__(self,item,next) -> None:\n",
    "        self.item = item # 노드의 값, \n",
    "        self.next = next # 다음 노드를 가리키는 포인터 \n",
    "\n",
    "# 이제 스택의 연산인 push와 pop을 담은 Stack 클래스를 다음과 같이 정의한다. \n",
    "class Stack:\n",
    "    def __init__(self) -> None:\n",
    "        self.last = None \n",
    "\n",
    "    def push(self,item): # 연결 리스트에 요소를 추가하면서 가장 마지막 값을 next로 지정하고,\n",
    "        # 포이터인 last는 가장 마지막으로 이동 시킴\n",
    "        self.last = Node(item,self.last)\n",
    "\n",
    "    def pop(self): # 가장 마지막 아이템을 끄집어 내고 last포인터를 한 칸 앞으로 전진시킨다. 즉 이전에 추가된 값을 가리키게 한다. \n",
    "\n",
    "        item = self.last.item\n",
    "        self.last = self.last.next\n",
    "        return item \n",
    "    \n",
    "stack = Stack()\n",
    "stack.push(1)\n",
    "stack.push(2)\n",
    "stack.push(3)\n",
    "stack.push(4)\n",
    "stack.push(5)\n",
    " # None <- 1 <- 2 <-3 <-4 <-5 \n",
    "\n",
    " "
   ]
  },
  {
   "cell_type": "code",
   "execution_count": 4,
   "metadata": {},
   "outputs": [
    {
     "name": "stdout",
     "output_type": "stream",
     "text": [
      "5\n",
      "4\n",
      "3\n",
      "2\n",
      "1\n"
     ]
    }
   ],
   "source": [
    "for _ in range(5):\n",
    "    print(stack.pop())"
   ]
  },
  {
   "cell_type": "markdown",
   "metadata": {},
   "source": [
    "# 유효한 괄호 leetCode 20.\n",
    "\n",
    "- 괄호로 된 입력값이 올바른지 판별하라. \n"
   ]
  },
  {
   "cell_type": "code",
   "execution_count": 5,
   "metadata": {},
   "outputs": [
    {
     "data": {
      "text/plain": [
       "True"
      ]
     },
     "execution_count": 5,
     "metadata": {},
     "output_type": "execute_result"
    }
   ],
   "source": [
    "inputs = '()[]{}' # output True \n",
    "class Solution:\n",
    "    def isValid(self, s: str) -> bool:\n",
    "        stack = [] \n",
    "        table ={\n",
    "            ')' : '(',\n",
    "            '}' : '{',\n",
    "            ']' : '[',\n",
    "        }\n",
    "        for i in s:\n",
    "            if i not in table:\n",
    "                stack.append(i)\n",
    "            elif not stack or table[i] != stack.pop():\n",
    "                return False\n",
    "        return len(stack) == 0\n",
    "    \n",
    "s =Solution()\n",
    "s.isValid(inputs)\n"
   ]
  },
  {
   "cell_type": "markdown",
   "metadata": {},
   "source": [
    "- 전형적인 stack문제, (,[,{, 들은 push하고, 그 반대인 ),],} 인 경우는 pop을 하여서 하나씩 비교한다. \n",
    "- 먼저 매핑 테이블을 이용한다. "
   ]
  },
  {
   "cell_type": "markdown",
   "metadata": {},
   "source": [
    "# 중복문자 제거  leetCode 316.\n",
    "\n",
    "- input : 'bcabc' -> 'abc'\n",
    "- input2 : 'cbacdcbc' -> 'acdb'\n",
    "\n",
    "중복된 문자를 제외하고, 사전식 순서로 나열하라 "
   ]
  },
  {
   "cell_type": "markdown",
   "metadata": {},
   "source": [
    "- 스택 풀이 32ms , 재귀적풀이 52ms "
   ]
  },
  {
   "cell_type": "code",
   "execution_count": 6,
   "metadata": {},
   "outputs": [],
   "source": [
    "# 스택풀이 ADT \n",
    "import collections \n",
    "\n",
    "class Solution:\n",
    "    def removeDuplicateLetters(self, s: str) -> str:\n",
    "        counter,seen,stack = collections.Counter(s),set(),list()\n",
    "\n",
    "        for char in s:\n",
    "            counter[char] -=1\n",
    "            if char in seen: # 이미 처리된 글자를 중복 연산하지 않기 위해 \n",
    "                continue \n",
    "            \n",
    "            # stack에 있는 것이 새로 들어오는 것보다 크고 counter에 여유분이 있으면 삭제 \n",
    "            while stack and char < stack[-1] and counter[stack[-1]] > 0:\n",
    "                seen.remove(stack.pop())\n",
    "            \n",
    "            seen.add(char)\n",
    "            stack.append(char)\n",
    "        return \"\".join(stack)\n"
   ]
  },
  {
   "cell_type": "markdown",
   "metadata": {},
   "source": [
    "- 먼저 맨 앞에 있는 문자를 차례대로 쌓아간다. push (list에서는 push)\n",
    "- 현재 문자가 char가 스택에 쌓여 있는 문자보다 앞서있는 문자이고, 쌓여있는 문자가 카운팅이 여유가 있으면, stack.pop을 사용한다. \n",
    "- 카운팅은 collections.Counter 함수를 사용한다. -> 모든 문자가 들어가야 하고,중복은 삭제하며, 사전식으로 나열해야하기에 \n",
    "카운팅이 남아 있는 문자는 뒤에 사전식에서 더 빨리 오는 문자가 있다면 카운팅에서 체크하면서 stack에서 삭제 한다. \n",
    "\n",
    "- seen은 집합 자료형으로 이미 처리된 여부를 확인하기 위함이다. 리스트 검색지원을 사용헤도 되지만, stack을 활용한 풀이기에 검색 기능을 위한 seen을 추가하였다. \n"
   ]
  },
  {
   "cell_type": "code",
   "execution_count": 7,
   "metadata": {},
   "outputs": [
    {
     "name": "stdout",
     "output_type": "stream",
     "text": [
      "{'d', 'b', 'a', 'c'} {'c', 'b', 'd', 'a'}\n",
      "{'b', 'd', 'c'} {'b', 'c'}\n",
      "{'b', 'd', 'c'} {'b', 'd', 'c'}\n",
      "{'b', 'd'} {'b'}\n",
      "{'b', 'd'} {'b', 'd'}\n",
      "{'b'} {'b'}\n"
     ]
    },
    {
     "data": {
      "text/plain": [
       "'acdb'"
      ]
     },
     "execution_count": 7,
     "metadata": {},
     "output_type": "execute_result"
    }
   ],
   "source": [
    "# 재귀적 풀이 \n",
    "class Solution:\n",
    "    def removeDuplicateLetters(self,s:str) -> str:\n",
    "        # 집합으로 정렬 \n",
    "        for char in sorted(set(s)):\n",
    "            \n",
    "            suffix = s[s.index(char):]\n",
    "            print(set(s),set(suffix))\n",
    "            if set(s) == set(suffix):\n",
    "                return char + self.removeDuplicateLetters(suffix.replace(char,''))\n",
    "        \n",
    "        return ''\n",
    "solu = Solution()\n",
    "s = 'cbacdcbc'\n",
    "solu.removeDuplicateLetters(s)\n",
    "        "
   ]
  },
  {
   "cell_type": "markdown",
   "metadata": {},
   "source": [
    "- 재귀 풀이는 나중에 "
   ]
  },
  {
   "cell_type": "markdown",
   "metadata": {},
   "source": [
    "## 일일 온도 \n",
    "- 매일의 화씨 온도 리스트를 입력받아, 더 따뜻한 날씨를 위해서는 며칠을 더 기다려야 하는지를 출력하시오 \n",
    "\n"
   ]
  },
  {
   "cell_type": "code",
   "execution_count": 31,
   "metadata": {},
   "outputs": [
    {
     "name": "stdout",
     "output_type": "stream",
     "text": [
      "[1, 1, 4, 2, 1, 1, 0, 0]\n"
     ]
    }
   ],
   "source": [
    "input1 = [73,74,75,71,69,72,76,73] # output :  [1,1,4,2,1,1,0,0]\n",
    "input2 = [30,40,50,60] # output : [1,1,1,0]\n",
    "class Solution:\n",
    "    def dailyTemperatures(self, temperatures: List[int]) -> List[int]:\n",
    "        st = [0]\n",
    "        result = [0]*len(temperatures)\n",
    "        for i in range(1,len(temperatures)):\n",
    "            f = temperatures[i]\n",
    "            # st에 아무것도 없으면 st에 인덱스를 넣어준다.\n",
    "            while st and f > temperatures[st[-1]]:\n",
    "                last_n = st.pop()\n",
    "                result[last_n] = (i-last_n)\n",
    "            st.append(i)\n",
    "    \n",
    "        return result \n",
    "    \n",
    "solt = Solution()\n",
    "s = solt.dailyTemperatures(input1)\n",
    "print(s)"
   ]
  },
  {
   "cell_type": "markdown",
   "metadata": {},
   "source": [
    "- stack에는 index값을 쌓아주고, 현재 온도가 stack의 마지막 온도보다 높다면 stack에서 빼준다. \n",
    "- while 문을 사용해서 조건이 아닐때까지 반복을 해준다. stack에 저장해놓은 index값으로 결과 리스트에도 index값 기준으로 넣어준다. -> 몇일을 기다려야 하는 지 출력해야하기 때문에 "
   ]
  },
  {
   "cell_type": "markdown",
   "metadata": {},
   "source": [
    "## 큐를 이용한 스택 구현 leetCode 225\n",
    "\n",
    "- 큐를 이용해 다음 연산을 지원하는 스택을 구현하라. \n"
   ]
  },
  {
   "cell_type": "code",
   "execution_count": 35,
   "metadata": {},
   "outputs": [],
   "source": [
    "class MyStack:\n",
    "\n",
    "    def __init__(self):\n",
    "        self.q = collections.deque()\n",
    "\n",
    "\n",
    "    def push(self, x: int) -> None:\n",
    "        self.q.append(x)\n",
    "        # 순서를 바꿔주는 \n",
    "        # self.q = self.q.reverse() -> collections.deque 는 .reverse()함수 사용안됨\n",
    "        for _ in range(len(self.q)-1):\n",
    "            self.q.append(self.q.popleft())\n",
    "\n",
    "    def pop(self) -> int:\n",
    "        return self.q.popleft()\n",
    "\n",
    "    def top(self) -> int:\n",
    "        return self.q[0]\n",
    "\n",
    "    def empty(self) -> bool:\n",
    "        return len(self.q) == 0        \n",
    "\n",
    "\n",
    "# Your MyStack object will be instantiated and called as such:\n",
    "# obj = MyStack()\n",
    "# obj.push(x)\n",
    "# param_2 = obj.pop()\n",
    "# param_3 = obj.top()\n",
    "# param_4 = obj.empty()"
   ]
  },
  {
   "cell_type": "markdown",
   "metadata": {},
   "source": [
    "- 선입선출인 큐로 후입선출인 스택을 구현하는 것 "
   ]
  },
  {
   "cell_type": "markdown",
   "metadata": {},
   "source": [
    "# 스택을 이용한 큐 구현 leetCode 232 \n",
    "\n",
    "- 스택을 이용해 다음 연산을 지원하는 큐를 구현하라."
   ]
  },
  {
   "cell_type": "code",
   "execution_count": 36,
   "metadata": {},
   "outputs": [],
   "source": [
    "class MyQueue:\n",
    "\n",
    "    def __init__(self):\n",
    "        self.stack = []        \n",
    "        self.output = []\n",
    "    def push(self, x: int) -> None:\n",
    "        self.stack.append(x)\n",
    "\n",
    "    def pop(self) -> int:\n",
    "        self.peek()\n",
    "        return self.output.pop()        \n",
    "\n",
    "    def peek(self) -> int:\n",
    "        if not self.output:\n",
    "            while self.stack:\n",
    "                self.output.append(self.stack.pop())\n",
    "        return self.output[-1]\n",
    "\n",
    "    def empty(self) -> bool:\n",
    "        return self.output ==[] and self.stack ==[]\n"
   ]
  },
  {
   "cell_type": "markdown",
   "metadata": {},
   "source": [
    "#  원형 큐 디자인 "
   ]
  },
  {
   "cell_type": "code",
   "execution_count": null,
   "metadata": {},
   "outputs": [],
   "source": [
    "class MyCircularQueue:\n",
    "\n",
    "    def __init__(self, k: int):\n",
    "        self.q = [None]*k \n",
    "        self.maxlen = k \n",
    "        self.p1=0 #  front \n",
    "        self.p2 = 0 # rear        \n",
    "\n",
    "    def enQueue(self, value: int) -> bool:\n",
    "        if self.q[self.p2] is None:\n",
    "            self.q[self.p2] = value\n",
    "            self.p2 = (self.p2+1) %self.maxlen\n",
    "            return True\n",
    "        else:\n",
    "            return False\n",
    "\n",
    "    def deQueue(self) -> bool:\n",
    "        if self.q[self.p1] is None:\n",
    "            return False\n",
    "        else:\n",
    "            self.q[self.p1] = None\n",
    "            self.p1 = (self.p1+1)%self.maxlen \n",
    "            return True \n",
    "              \n",
    "\n",
    "    def Front(self) -> int:\n",
    "        return -1 if self.q[self.p1] is None else self.q[self.p1]\n",
    "\n",
    "\n",
    "    def Rear(self) -> int:\n",
    "        return -1 if self.q[self.p2] is None else self.q[self.p2-1]\n",
    "        \n",
    "\n",
    "    def isEmpty(self) -> bool:\n",
    "        return self.p1 == self.p2 and self.q[self.p1] is None         \n",
    "\n",
    "    def isFull(self) -> bool:\n",
    "        return self.p1 == self.p2 and self.q[self.p1] is not None \n",
    "            "
   ]
  },
  {
   "cell_type": "markdown",
   "metadata": {},
   "source": [
    " - 원형으로 이루어진 큐 FIFO 인 구조에서는 기존의 큐와 동일하지만, 차이점은 기존의 큐는 공간이 꽉 차게 되면 더 이상 요소를 추가할 수 없었다(파이썬은 객체타입으로 상관은 없는 듯?) 앞에 공간을 삭제 하더라도, 추가할 수 잇는 방법이 없다. \n",
    "\n",
    " - 그래서 앞쪽에 공간이 남아 있다면 이그림처럼 동그랗게 연결해 앞쪽으로 추가 할 수 있도록, 재활용 가능한 구조가 바로 원형 큐다. \n",
    "\n",
    " 동작하는 원리는 투포인터와 유사하다. "
   ]
  },
  {
   "cell_type": "markdown",
   "metadata": {},
   "source": []
  }
 ],
 "metadata": {
  "kernelspec": {
   "display_name": "DL-torch",
   "language": "python",
   "name": "python3"
  },
  "language_info": {
   "codemirror_mode": {
    "name": "ipython",
    "version": 3
   },
   "file_extension": ".py",
   "mimetype": "text/x-python",
   "name": "python",
   "nbconvert_exporter": "python",
   "pygments_lexer": "ipython3",
   "version": "3.8.18"
  }
 },
 "nbformat": 4,
 "nbformat_minor": 2
}
