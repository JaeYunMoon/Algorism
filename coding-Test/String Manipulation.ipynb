{
 "cells": [
  {
   "cell_type": "markdown",
   "metadata": {},
   "source": [
    "## 가장 긴 팰린드롬 부분 문자열 leetcode 5.\n",
    "input : \"babab\"   \n",
    "output : \"bab\" or \"aba\"\n",
    "\n",
    "input2:\"cbbd\"  \n",
    "output2:\"bb\"\n",
    "\n"
   ]
  },
  {
   "cell_type": "markdown",
   "metadata": {},
   "source": [
    "- 내 풀이 : 이중 for 문으로 다음 문자를 계속 받으면서 팰린드롬 확인, 가장 긴 팰린드롬 return \n",
    "if 문으로 긴 문자를 기준으로 for문 남은게 짧다면 끝내기 \n"
   ]
  },
  {
   "cell_type": "code",
   "execution_count": 5,
   "metadata": {},
   "outputs": [
    {
     "name": "stdout",
     "output_type": "stream",
     "text": [
      "'bb'\n",
      "'2345432'\n",
      "'bab'\n",
      "'bb'\n",
      "''\n"
     ]
    }
   ],
   "source": [
    "class Solution:\n",
    "    def longestPalindrome(self, s: str) -> str:\n",
    "        if len(s) < 2 or s[::]==s[::-1]: # end point \n",
    "            return s\n",
    "    \n",
    "        r = ''\n",
    "        for i in range(len(s)-1):\n",
    "            for j in range(i+1,len(s)):\n",
    "                st = s[int(i):int(j)+1]\n",
    "                if st == st[::-1]:\n",
    "                    r = max(r,st,key=len)\n",
    "        return r \n",
    "    \n",
    "s = Solution()\n",
    "print(repr(s.longestPalindrome(\"abb\")))\n",
    "print(repr(s.longestPalindrome(\"12345432\")))\n",
    "print(repr(s.longestPalindrome(\"babad\")))\n",
    "print(repr(s.longestPalindrome(\"cbbd\")))\n",
    "print(repr(s.longestPalindrome(\"ac\"))) # a "
   ]
  },
  {
   "cell_type": "markdown",
   "metadata": {},
   "source": [
    "- 문제 풀이 : 투포인터 방법을 이용   \n",
    "\n",
    "투포인터 종류 : 길이가 2인 포인터 / 길이가 3인 포인터     \n",
    "종료 조건은 길이가 1인 것과 문장 자체가 팰린드롬 인 것 \n",
    "   \n",
    "문제해결 포인트는 포인터에 팰린드롬인게 나왔다면 좌우로 하나씩 늘려가며, 확장시키는 것 "
   ]
  },
  {
   "cell_type": "code",
   "execution_count": 7,
   "metadata": {},
   "outputs": [
    {
     "name": "stdout",
     "output_type": "stream",
     "text": [
      "'bb'\n",
      "'2345432'\n",
      "'bab'\n",
      "'bb'\n",
      "'c'\n"
     ]
    }
   ],
   "source": [
    "class Solution:\n",
    "    def longestPalindrome(self, s: str) -> str:\n",
    "        def expand(left:int,right:int)->str:\n",
    "            while left >=0 and right <=len(s)-1 and s[left] == s[right]:\n",
    "                left -=1 \n",
    "                right +=1 \n",
    "                #print(left,right)\n",
    "            \n",
    "            return s[left+1:right] # while 통과하지 못했다면 이전으로 돌려와 팰린드롬 이므로 \n",
    "        \n",
    "        # 종료 조건 \n",
    "        if len(s)<2 or s == s[::-1]:\n",
    "            return s \n",
    "        r = \"\"\n",
    "        for i in range(len(s)-1):\n",
    "            r = max(r,\n",
    "                    expand(i,i+1),\n",
    "                    expand(i,i+2),\n",
    "                    key = len)\n",
    "        return r \n",
    "s = Solution()\n",
    "print(repr(s.longestPalindrome(\"abb\")))\n",
    "print(repr(s.longestPalindrome(\"12345432\")))\n",
    "print(repr(s.longestPalindrome(\"babad\")))\n",
    "print(repr(s.longestPalindrome(\"cbbd\")))\n",
    "print(repr(s.longestPalindrome(\"ac\"))) # a \n",
    "\n",
    "# 84 ms "
   ]
  },
  {
   "cell_type": "code",
   "execution_count": 8,
   "metadata": {},
   "outputs": [
    {
     "name": "stdout",
     "output_type": "stream",
     "text": [
      "'bb'\n",
      "'2345432'\n",
      "'bab'\n",
      "'bb'\n",
      "'a'\n"
     ]
    }
   ],
   "source": [
    "class Solution:\n",
    "    def longestPalindrome(self, s: str) -> str:\n",
    "        def expand(left:int,right:int)->str:\n",
    "            while left >=0 and right <=len(s) and s[left] == s[right-1]:\n",
    "                left -=1 \n",
    "                right +=1\n",
    "            return s[left+1:right-1]\n",
    "        \n",
    "        if len(s) <2 or s==s[::-1]:\n",
    "            return s \n",
    "        r = \"\"\n",
    "        for i in range(len(s)-1):\n",
    "            r = max(r,expand(i,i+1),expand(i,i+2),key = len)\n",
    "        return r\n",
    "    \n",
    "s = Solution()\n",
    "print(repr(s.longestPalindrome(\"abb\")))\n",
    "print(repr(s.longestPalindrome(\"12345432\")))\n",
    "print(repr(s.longestPalindrome(\"babad\")))\n",
    "print(repr(s.longestPalindrome(\"cbbd\")))\n",
    "print(repr(s.longestPalindrome(\"ac\"))) # a "
   ]
  },
  {
   "cell_type": "code",
   "execution_count": null,
   "metadata": {},
   "outputs": [],
   "source": []
  }
 ],
 "metadata": {
  "kernelspec": {
   "display_name": "Python 3",
   "language": "python",
   "name": "python3"
  },
  "language_info": {
   "codemirror_mode": {
    "name": "ipython",
    "version": 3
   },
   "file_extension": ".py",
   "mimetype": "text/x-python",
   "name": "python",
   "nbconvert_exporter": "python",
   "pygments_lexer": "ipython3",
   "version": "3.8.18"
  }
 },
 "nbformat": 4,
 "nbformat_minor": 2
}
