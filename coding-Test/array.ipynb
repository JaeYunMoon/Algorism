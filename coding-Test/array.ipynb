{
 "cells": [
  {
   "cell_type": "code",
   "execution_count": 13,
   "metadata": {},
   "outputs": [],
   "source": [
    "from typing import List,Dict"
   ]
  },
  {
   "cell_type": "markdown",
   "metadata": {},
   "source": [
    "# 두수의 합 leetcode 1\n",
    "Given an array of integers nums and an integer target, return indices of the two numbers such that they add up to target.\n",
    "\n",
    "You may assume that each input would have exactly one solution, and you may not use the same element twice.\n",
    "\n",
    "You can return the answer in any order.\n",
    "\n",
    "\n",
    "Example 1:\n",
    "\n",
    "Input: nums = [2,7,11,15], target = 9\n",
    "Output: [0,1]\n",
    "Explanation: Because nums[0] + nums[1] == 9, we return [0, 1].  \n",
    "\n",
    "Example 2:\n",
    "\n",
    "Input: nums = [3,2,4], target = 6\n",
    "Output: [1,2]   \n",
    "\n",
    "Example 3:\n",
    "\n",
    "Input: nums = [3,3], target = 6\n",
    "Output: [0,1]\n"
   ]
  },
  {
   "cell_type": "code",
   "execution_count": 14,
   "metadata": {},
   "outputs": [
    {
     "data": {
      "text/plain": [
       "[0, 1]"
      ]
     },
     "execution_count": 14,
     "metadata": {},
     "output_type": "execute_result"
    }
   ],
   "source": [
    "# 브루트포스 계산 \n",
    "\n",
    "class Solution:\n",
    "    def twoSum(self, nums: List[int], target: int) -> List[int]:\n",
    "        for i in range(len(nums)-1):\n",
    "            num1 = nums[i]\n",
    "            for j in range(i+1,len(nums)):\n",
    "                num2 = nums[j]\n",
    "                n = num1+num2\n",
    "                if target == n:\n",
    "                    return [i,j]\n",
    "\n",
    "nums = [2,7,11,15]\n",
    "target = 9\n",
    "s = Solution()\n",
    "s.twoSum(nums,target)\n",
    "# 1646 ms memory 17.64mb, On^2\n"
   ]
  },
  {
   "cell_type": "code",
   "execution_count": 15,
   "metadata": {},
   "outputs": [
    {
     "data": {
      "text/plain": [
       "[0, 1]"
      ]
     },
     "execution_count": 15,
     "metadata": {},
     "output_type": "execute_result"
    }
   ],
   "source": [
    "# in을 이용한 탐색 \n",
    "\n",
    "class Solution:\n",
    "    def twoSum(self, nums: List[int], target: int) -> List[int]:\n",
    "        for i,n in enumerate(nums):\n",
    "            component = target - n\n",
    "            \n",
    "            if component in nums[i+1:]:\n",
    "                return [nums.index(n),nums[i+1:].index(component) + (i+1)]\n",
    "\n",
    "nums = [2,7,11,15]\n",
    "target = 9\n",
    "s = Solution()\n",
    "s.twoSum(nums,target)\n",
    "\n",
    "# 17.24mb, 333ms, On^2 \n",
    "# in 연산 쪽이  랙 문을 사용하는 것 보다 훨씬 가볍고 빠르다. \n",
    "\n"
   ]
  },
  {
   "cell_type": "code",
   "execution_count": 16,
   "metadata": {},
   "outputs": [
    {
     "name": "stdout",
     "output_type": "stream",
     "text": [
      "{2: 0, 7: 1, 11: 2, 15: 3}\n"
     ]
    },
    {
     "data": {
      "text/plain": [
       "(0, 1)"
      ]
     },
     "execution_count": 16,
     "metadata": {},
     "output_type": "execute_result"
    }
   ],
   "source": [
    "# 딕셔너리를 활용한 탐색 \n",
    "class Solution:\n",
    "    def twoSum(self, nums: List[int], target: int) -> List[int]:\n",
    "        nums_map = {}\n",
    "        # change key and value to save as dictionary \n",
    "        for i,num in enumerate(nums):\n",
    "            nums_map[num]=i\n",
    "        print(nums_map)\n",
    "        # Key to see the result of subtracting the first number from the target \n",
    "        for i,num in enumerate(nums):\n",
    "            if target - num in nums_map and i !=nums_map[target-num]:\n",
    "                return nums.index(num), nums_map[target-num]\n",
    "            \n",
    "\n",
    "# for문을 두번 사용하는데, 어째서 이렇게 빠르지? \n",
    "## 딕셔너리는 해시테이블로 구현되어 있고, 이 경우 조회는 평균적으로 O(1)이다(특별한 경우를 제외하고서 - 최악(O(n))s\n",
    "\n",
    "nums = [2,7,11,15]\n",
    "target = 9\n",
    "s = Solution()\n",
    "s.twoSum(nums,target)\n",
    "\n",
    "# 17.64mb, 45ms, "
   ]
  },
  {
   "cell_type": "code",
   "execution_count": 17,
   "metadata": {},
   "outputs": [],
   "source": [
    "class Solution:\n",
    "    def twoSum(self,nums,target):\n",
    "        nums_map = {}\n",
    "        for i,n in enumerate(nums):\n",
    "            if target - n in nums_map:\n",
    "                return [nums_map[target-n],i]\n",
    "            nums_map[n] = i\n",
    "\n",
    "# 위 풀이와 시간,공간 복잡도는 동일하나, for문을 하나만 사용함으로써 코드가 간결해지는 것을 볼 수 있다. \n"
   ]
  },
  {
   "cell_type": "code",
   "execution_count": 18,
   "metadata": {},
   "outputs": [
    {
     "data": {
      "text/plain": [
       "(0, 1)"
      ]
     },
     "execution_count": 18,
     "metadata": {},
     "output_type": "execute_result"
    }
   ],
   "source": [
    "# two pointer 풀이 방법 \n",
    "\n",
    "# 단점 : 정렬이 된 상태가 아니기 때문에 two pointer로 풀 수 없다. \n",
    "# 단점2 : 정렬을 하게 되면 인덱스가 망가지게 된다. \n",
    "\n",
    "class Solution:\n",
    "    def twoSum(self,nums,target):\n",
    "        left,right = 0,len(nums)-1\n",
    "        while not left==right:\n",
    "            # 합이 타겟보다 크면 오른쪽 포인터를 왼쪽으로 이동 \n",
    "            if nums[left]+nums[right] < target:\n",
    "                left +=1 \n",
    "            elif nums[left]+nums[right] > target:\n",
    "                right-=1\n",
    "            \n",
    "            else:\n",
    "                return left,right\n",
    "            \n",
    "nums = [2,7,11,15]\n",
    "target = 9\n",
    "s = Solution()\n",
    "s.twoSum(nums,target)\n",
    "\n",
    "# 사실 상 풀이 불가 "
   ]
  },
  {
   "cell_type": "markdown",
   "metadata": {},
   "source": [
    "# 빗물 트래핑 leetcode 42\n",
    "\n",
    "높이를 입력받아, 비 온 후 얼마나 많은 물이 쌓일 수 있는지 계산하라. \n",
    "\n",
    "input = [0,1,0,2,1,0,1,3,2,1,2,1]\n",
    "output = 6\n"
   ]
  },
  {
   "cell_type": "code",
   "execution_count": 19,
   "metadata": {},
   "outputs": [],
   "source": [
    "# 투포인터 풀이 방법 \n",
    "# 가장 높은 막대는 전체 부피에 영향을 끼치지 않고 좌우로 가르는 장벽역활을 한다. \n",
    "\n",
    "class Solution:\n",
    "    def trap(self, height: List[int]) -> int:\n",
    "        if not height:\n",
    "            return 0 \n",
    "        volume = 0 \n",
    "\n",
    "        left,right = 0,len(height)-1 \n",
    "        leftmax,rightmax = height[left],height[right]\n",
    "\n",
    "        while left < right:\n",
    "            # height[left]가 크다면 volume에는 영향을 끼치지 않음 \n",
    "            leftmax,rightmax = max(height[left],leftmax),max(height[right],rightmax)\n",
    "            # 더 높은 쪽으로 향해 투 포인터 이동\n",
    "            if leftmax <= rightmax:\n",
    "                volume += leftmax - height[left]\n",
    "                left +=1 \n",
    "            else:\n",
    "                volume += rightmax-height[right]\n",
    "                right -=1\n",
    "        return volume \n"
   ]
  },
  {
   "cell_type": "code",
   "execution_count": 20,
   "metadata": {},
   "outputs": [],
   "source": [
    "# stack \n",
    "# \n",
    "class Solution:\n",
    "    def trap(self, height: List[int]) -> int:\n",
    "        if not height:\n",
    "            return 0 \n",
    "        stack = []\n",
    "        volume = 0 \n",
    "\n",
    "        for i in range(len(height)):\n",
    "            # 변곡점을 만나는 경우 \n",
    "            while stack and height[i] > height[stack[-1]]:\n",
    "                # 스택에서 뺌 \n",
    "                top = stack.pop()\n",
    "                if not len(stack):\n",
    "                    break\n",
    "                # 이전과의 차이만큼 물 높이 처리\n",
    "                distance = i -stack[-1]-1 \n",
    "                waters = min(height[i],height[stack[-1]]) - height[top]\n",
    "                volume +=distance *waters\n",
    "            stack.append(i)\n",
    "        return volume\n",
    "    \n",
    "    \n"
   ]
  },
  {
   "cell_type": "markdown",
   "metadata": {},
   "source": [
    "# 세수의 합 leetcode 15\n",
    "- 배열을 입력받아 합으로 0을 만들 수 있는 3개의 앨리먼트를 출력하라. \n",
    "\n",
    "input : [-1,0,1,2,-1,-4]\n",
    "output : [\n",
    "    [-1,0,1],\n",
    "    [-1,-1,2] \n",
    "]"
   ]
  },
  {
   "cell_type": "code",
   "execution_count": 21,
   "metadata": {},
   "outputs": [],
   "source": [
    "class Solution:\n",
    "    def threeSum(self, nums: List[int]) -> List[List[int]]:\n",
    "        result = [] \n",
    "        nums.sort()\n",
    "        for i in range(len(nums)-2):\n",
    "            left,right = i+1,len(nums)-1\n",
    "            n1 = nums[i]\n",
    "            while left < right:\n",
    "                \n",
    "                n2 = nums[left]\n",
    "                n3 = nums[right]\n",
    "                if n1+n2+n3 == 0:\n",
    "                    result.append([n1,n2,n3])\n",
    "                \n",
    "                elif n2+n3 > 0:\n",
    "                    right -=1 \n",
    "                else:\n",
    "                    left +=1 \n",
    "            return result \n",
    "        \n",
    "        "
   ]
  },
  {
   "cell_type": "code",
   "execution_count": 22,
   "metadata": {},
   "outputs": [],
   "source": [
    "class Solution:\n",
    "    def threeSum(self,nums):\n",
    "        result = [] \n",
    "        nums.sort()\n",
    "        for i in range(len(nums)-2):\n",
    "            # 중복된 값 건너뛰기 - 똑같은 일을 하지 않기 위해서 \n",
    "            \n",
    "            if i>0 and nums[i] == nums[i-1]:\n",
    "                continue\n",
    "            left,right = i+1,len(nums)-1\n",
    "            while left<right:\n",
    "                sum = nums[i]+nums[left] +nums[right]\n",
    "                if sum < 0:\n",
    "                    left +=1 \n",
    "                elif sum > 0:\n",
    "                    right -=1 \n",
    "                else:\n",
    "                    # sum = 0 인 경우이므로 정갑 및 스킵 처리?? \n",
    "                    result.append((nums[i],nums[left],nums[right]))\n",
    "                \n",
    "                    while left < right and nums[left] == nums[left+1]:\n",
    "                        left+=1 \n",
    "                    while left < right and nums[right] == nums[right+1]:\n",
    "                        right -=1 \n",
    "\n",
    "                    left +=1 \n",
    "                    right -=1 \n",
    "        return result \n",
    "\n"
   ]
  },
  {
   "cell_type": "markdown",
   "metadata": {},
   "source": [
    "# 자신을 제외한 배열의 곱 leetcode 238\n",
    "\n",
    "- 배열을 입력받아 output[i]가 자신을 제외한 나머지 모든 요소의 곱셈 결과가 되도록 출력하라. \n",
    "\n",
    "- input : [1,2,3,4]\n",
    "- output : [24,12,8,6]\n",
    "\n"
   ]
  },
  {
   "cell_type": "code",
   "execution_count": 23,
   "metadata": {},
   "outputs": [
    {
     "data": {
      "text/plain": [
       "[24, 12, 8, 6]"
      ]
     },
     "execution_count": 23,
     "metadata": {},
     "output_type": "execute_result"
    }
   ],
   "source": [
    "from typing import List\n",
    "\n",
    "class Solution:\n",
    "    def productExceptSelf(self, nums: List[int]) -> List[int]:\n",
    "        out = [] \n",
    "        p = 1\n",
    "        # 왼쪽 곱셈\n",
    "        for i in range(0,len(nums)):\n",
    "            out.append(p)\n",
    "            p = p*nums[i]\n",
    "        p=1\n",
    "        # 왼쪽 곱셈결과에 오른쪽 값을 차례대로 곱셈 \n",
    "        for i in range(len(nums)-1,0-1,-1):\n",
    "            out[i] = out[i]*p\n",
    "            p = p*nums[i]\n",
    "\n",
    "        return out \n",
    "\n",
    "s = Solution()\n",
    "input = [1,2,3,4]\n",
    "s.productExceptSelf(input)"
   ]
  },
  {
   "cell_type": "markdown",
   "metadata": {},
   "source": [
    " - 왼쪽으로 곱하고, 1,1,2,6 -> 마지막 요소를 제외한 곱 결과 -> 첫번째 1은 첫 요소를 그대로 곱해주기 위해서 \n",
    " - 오른쪽으로 곱하고,24,12,4,1 -> 첫번째 요소를 제외한 곱 결과 -> 마지막 1은 마지막 요소를 그대로 곱해주기 위해서 \n",
    " \n",
    "- 위 결과들을 곱한다. \n"
   ]
  },
  {
   "cell_type": "code",
   "execution_count": 24,
   "metadata": {},
   "outputs": [
    {
     "data": {
      "text/plain": [
       "[24, 12, 8, 6]"
      ]
     },
     "execution_count": 24,
     "metadata": {},
     "output_type": "execute_result"
    }
   ],
   "source": [
    "\n",
    "class Solution:\n",
    "    def productExceptSelf(self, nums: List[int]) -> List[int]:\n",
    "        answer = [1]*len(nums)\n",
    "        left_product = 1 \n",
    "        for i in range(len(nums)):\n",
    "            answer[i] *=left_product # 처음엔 자기자신을 곱하기 때문에 1, \n",
    "            # 이후 다음 요소를 곱해주기 위해\n",
    "            left_product *= nums[i]\n",
    "        right_product = 1\n",
    "        for i in range(len(nums)-1,-1,-1):\n",
    "            answer[i]*= right_product\n",
    "            right_product *= nums[i]\n",
    "\n",
    "        return answer \n",
    "    \n",
    "\n",
    "s = Solution()\n",
    "input = [1,2,3,4]\n",
    "s.productExceptSelf(input)"
   ]
  },
  {
   "cell_type": "markdown",
   "metadata": {},
   "source": [
    "# 주식을 사고팔기 가장 좋은 시점 leet code 121 \n",
    "- 한 번의 거래로 낼 수 있는 최대 이익을 산출하라. \n",
    "\n",
    "- 1일 때 사서 6일 때 팔면 5의 이익을 얻는다. \n",
    "- 이익이 가장 클 때 이익을 출력하라. "
   ]
  },
  {
   "cell_type": "code",
   "execution_count": 25,
   "metadata": {},
   "outputs": [
    {
     "data": {
      "text/plain": [
       "5"
      ]
     },
     "execution_count": 25,
     "metadata": {},
     "output_type": "execute_result"
    }
   ],
   "source": [
    "input1 = [7,1,5,3,6,4] # output 5\n",
    "class Solution:\n",
    "    def maxProfit(self, prices: List[int]) -> int:\n",
    "        min_num = min(prices)\n",
    "        min_idx = prices.index(min_num)\n",
    "        new_list = prices[min_idx+1:len(prices)]\n",
    "        max_num = max(new_list) if new_list else 0\n",
    "        \n",
    "        return max_num-min_num if max_num != 0 else 0 \n",
    "\n",
    "\n",
    "solu = Solution()\n",
    "solu.maxProfit(input1)\n"
   ]
  },
  {
   "cell_type": "code",
   "execution_count": null,
   "metadata": {},
   "outputs": [],
   "source": [
    "import sys \n",
    "class Solution:\n",
    "    def maxProfit(self, prices: List[int]) -> int:\n",
    "        profit = 0 \n",
    "        min_price = sys.maxsize # 시스템의 가장 큰 값 \n",
    "        for price in prices:\n",
    "            min_price = min(price,min_price)\n",
    "            profit = max(profit,price-min_price)\n",
    "            \n",
    "solu = Solution()\n",
    "solu.maxProfit(input1)"
   ]
  },
  {
   "cell_type": "markdown",
   "metadata": {},
   "source": [
    "## 풀이방법 \n",
    "- 내 풀이 방법은 오류가 발생 \n",
    "    - 가장 작은 값만 찾고 시작하기 때문에 오류가 발생 함 \n",
    "    - [2,4,1] 이런 경우 오류가 발생한다. \n",
    "\n",
    "- 브루트포스로 계산 \n",
    "    - for 문 두개를 활용해서 풀이 방법, 모든 요소를 확인하는 방법 \n",
    "    - 위 풀이도 똑같은 방법이다. \n",
    "\n",
    "- 저점과 현재 값과의 차이 (카데인 알고리즘)\n",
    "    - 작은 값을 for문을 돌면서 계속해서 갱신한다. \n",
    "    - 가장 많은 이익을 내는 것도 계속 갱신하신한다., 단 위에서 갱신하는 작은 값을 활용해서 갱신한다. "
   ]
  },
  {
   "cell_type": "markdown",
   "metadata": {},
   "source": [
    "### 추가적인 TIP\n",
    "- 최댓값과 최솟값 \n",
    "\n",
    "    - 앞서 풀이에서는 sys 모듈을 활용해서, 시스템이 정한 가장 높은 값 낮은 값을 활용하였다. \n",
    "        - sys.maxsize , -sys.maxsize\n",
    "\n",
    "    - 추가적으로 float()을 활용해서 무한대 값을 지정하는 방법도 있다. \n",
    "        - float(\"inf\"), float(\"-inf\")\n",
    "    \n",
    "    - 가장 좋지 않은 방법은 다음과 같이 99999 와 같은 임의의 값을 지정하는 것이다. 이렇게 할 경우 문제가 생길 수 있다. \n",
    "    - 파이썬의 숫자형은 임의 정밀도(Arbitrary-Precision)를 지원하며 사실상 무한대의 값을 지정할 수 있다. 아무리 큰 수라 할지라도 얼마든지 더 큰수가 지정될 수 있다. 때문에 임의의 값을 초깃값으로 지정하는 것은 지양해야 한다. 사실상 파이썬에서 sys.maxsize로 선언하는 것도 큰 의미는 없다. 하지만, 파이썬에서 sys.maxsize로 처리하는 정도만으로 충분히 모든 테스트 케이스를 통과할 수 있을 것이다. \n",
    "    "
   ]
  },
  {
   "cell_type": "code",
   "execution_count": null,
   "metadata": {},
   "outputs": [],
   "source": []
  }
 ],
 "metadata": {
  "kernelspec": {
   "display_name": "DL-torch",
   "language": "python",
   "name": "python3"
  },
  "language_info": {
   "codemirror_mode": {
    "name": "ipython",
    "version": 3
   },
   "file_extension": ".py",
   "mimetype": "text/x-python",
   "name": "python",
   "nbconvert_exporter": "python",
   "pygments_lexer": "ipython3",
   "version": "3.8.18"
  }
 },
 "nbformat": 4,
 "nbformat_minor": 2
}
