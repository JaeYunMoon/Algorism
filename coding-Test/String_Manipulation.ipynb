{
 "cells": [
  {
   "cell_type": "code",
   "execution_count": 14,
   "metadata": {},
   "outputs": [],
   "source": [
    "from typing import List,Dict"
   ]
  },
  {
   "cell_type": "markdown",
   "metadata": {},
   "source": [
    "\n",
    "# 유효한 팰린드롬 Leetcode 125.\n",
    "- 주어진 문자열이 팰린드롬인지 확인하라. 대소문자를 구분하지 않으며, 영문자와 숫자만을 대상으로 한다.   \n",
    "\n",
    "- input : \"A man, a plan, a canal: Pananma\"\n",
    "- output : True \n",
    "\n",
    "- input : \"race a car\"\n",
    "- output : false "
   ]
  },
  {
   "cell_type": "code",
   "execution_count": 15,
   "metadata": {},
   "outputs": [
    {
     "name": "stdout",
     "output_type": "stream",
     "text": [
      "'amanaplanacanalpanama'\n"
     ]
    },
    {
     "data": {
      "text/plain": [
       "True"
      ]
     },
     "execution_count": 15,
     "metadata": {},
     "output_type": "execute_result"
    }
   ],
   "source": [
    "import re \n",
    "input1 = \"A man, a plan, a canal : Panama\"\n",
    "input2 = \"race a car\"\n",
    "class Solution:\n",
    "    def isPalindrome(self, s: str) -> bool:\n",
    "        strs = re.sub(\"[^A-Za-z0-9]\",\"\",s).lower() \n",
    "        print(repr(strs))\n",
    "        return strs[::] == strs[::-1]\n",
    "\n",
    "solu = Solution()\n",
    "solu.isPalindrome(input1)"
   ]
  },
  {
   "cell_type": "markdown",
   "metadata": {},
   "source": [
    "### 주요 풀이 방법 \n",
    "#### 필터 - 영문자와 숫자만을 대상으로 해야함 \n",
    "- 정규표현식을 사용 : strs = re.sub(\"[^A-Za-z0-9]\",\"\",s) 을 활용하는 방법\n",
    "- for 문을 활용한 글자 하나하나 아래 두 함수를 활용해서 리스트에 저장하는 방법  \n",
    "    - isalpha() : 영문자 여부를 판별하는 함수\n",
    "    - isalnum() : 영문자,숫자 여부를 판별하는 함수 \n",
    "\n",
    "- .upper은 문자열에서 밖에 사용되지 않는다. \n",
    "\n",
    "#### 판별 - 팰린드롬 \n",
    "- 팰린드롬 : 앞뒤가 똑같은 단어나 문장     \n",
    "\n",
    "- pop()과 collections.deque 의 leftpop() 함수를 사용하여 요소 하나씩 꺼내서 판별하는 방법 \n",
    "- 또는 리스트 자료형과 스트링 자료형에 사용가능한 슬라이싱을 활용해서 한번에 비교하는 방법 (2배 정도 빠름)"
   ]
  },
  {
   "cell_type": "code",
   "execution_count": 16,
   "metadata": {},
   "outputs": [
    {
     "name": "stdout",
     "output_type": "stream",
     "text": [
      "False\n",
      "----------\n"
     ]
    }
   ],
   "source": [
    "strs = [] \n",
    "for i in input2:\n",
    "    if i.isalpha():\n",
    "        strs.append(i.lower())\n",
    "\n",
    "print(strs[::]==strs[::-1])\n",
    "print(\"-\"*10)\n"
   ]
  },
  {
   "cell_type": "markdown",
   "metadata": {},
   "source": [
    "# 문자열 뒤집기 Leetcode 344\n",
    "- 문자열을 뒤집는 함수를 작성하라. 입력값은 문자 배열이며, 리턴 없이 리스트 내부를 직접 조작하라. \n"
   ]
  },
  {
   "cell_type": "code",
   "execution_count": 17,
   "metadata": {},
   "outputs": [],
   "source": [
    "input1 = [\"h\",\"e\",\"l\",\"l\",\"o\"] # output = [\"o\",\"l\",\"l\",\"e\",\"h\"]\n",
    "class Solution:\n",
    "    def reverseString(self, s: List[str]) -> None:\n",
    "        return s.reverse()\n",
    "\n",
    "solu = Solution()\n",
    "solu.reverseString(input1)\n"
   ]
  },
  {
   "cell_type": "code",
   "execution_count": 18,
   "metadata": {},
   "outputs": [
    {
     "data": {
      "text/plain": [
       "['o', 'l', 'l', 'e', 'h']"
      ]
     },
     "execution_count": 18,
     "metadata": {},
     "output_type": "execute_result"
    }
   ],
   "source": [
    "input1 = [\"h\",\"e\",\"l\",\"l\",\"o\"] # output = [\"o\",\"l\",\"l\",\"e\",\"h\"]\n",
    "class Solution:\n",
    "    def reverseString(self, s: List[str]) -> None:\n",
    "        start = 0;end = len(s)-1\n",
    "        while start <end:\n",
    "            [s[start],s[end]] = [s[end],s[start]]\n",
    "            start +=1 \n",
    "            end -=1 \n",
    "        return s \n",
    "solu = Solution()\n",
    "solu.reverseString(input1)"
   ]
  },
  {
   "cell_type": "markdown",
   "metadata": {},
   "source": [
    "## 주요 풀이 방법\n",
    "\n",
    "- 투포인터 풀이방법 \n",
    "     - 내부를 스왑하는 방법으로 두개의 포인터를 사용하여 리스트 내부의 글자를 스왑하는 방식으로 풀이 \n",
    "\n",
    "- 파이썬 다운 풀이 \n",
    "    - .reverse() 함수를 사용(List에서 사용하는 함수), 슬라이싱을 활용하는 방법 \n",
    "    - 슬라이싱 방법(리트코드에서 오류 발생)   \n",
    "    \n",
    "단, 리트코드에서는 슬라이싱 방법은 오류를 발생 시키는데 공간 복잡도를 O(1)로 제한하다 보니 제약이 있는듯 하다. \n",
    "   \n",
    "또한, 투포인터 방법이 느리다. "
   ]
  },
  {
   "cell_type": "markdown",
   "metadata": {},
   "source": [
    "# 로그파일 재정렬 Leetcode 937\n",
    "- 로그를 재정렬하라. 기준은 다음과 같다. \n",
    "\n",
    "1. 로그의 가장 앞 부분은 식별자다. \n",
    "2. 문자로 구성된 로그가 숫자 로그보다 앞에 온다. \n",
    "3. 식별자는 순서에 영향을 끼치지 않지만, 문자가 동일할 경우 식별자 순으로 한다.\n",
    "4. 숫자 로그는 입력 순서대로 한다. \n",
    " "
   ]
  },
  {
   "cell_type": "code",
   "execution_count": 19,
   "metadata": {},
   "outputs": [
    {
     "name": "stdout",
     "output_type": "stream",
     "text": [
      "['let1 art can', 'let3 art zero', 'let2 own kit dig', 'dig1 8 1 5 1', 'dig2 3 6']\n"
     ]
    }
   ],
   "source": [
    "from typing import List\n",
    "input1 = [\"dig1 8 1 5 1\",\"let1 art can\",\"dig2 3 6\",\"let2 own kit dig\",\"let3 art zero\"] \n",
    "# output = [\"let1 art can\",\"let3 art zero\",\"let2 own kit dig\",\"dig1 8 1 5 1\",\"dig2 3 6\"]\n",
    "\n",
    "input2 = [\"a1 9 2 3 1\",\"g1 act car\",\"zo4 4 7\",\"ab1 off key dog\",\"a8 act zoo\"]\n",
    "# output = [\"g1 act car\",\"a8 act zoo\",\"ab1 off key dog\",\"a1 9 2 3 1\",\"zo4 4 7\"]\n",
    "\n",
    "class Solution:\n",
    "    def reorderLogFiles(self, logs: List[str]) -> List[str]:\n",
    "        list_alph = [] \n",
    "        list_num = [] \n",
    "        for i in range(len(logs)):\n",
    "            strs = logs[i].split(\" \")\n",
    "            if strs[1].isalpha():\n",
    "                list_alph.append(logs[i])\n",
    "            else:\n",
    "                list_num.append(logs[i])\n",
    "\n",
    "        list_alph.sort(key=lambda x: (x.split()[1:],x.split()[0]))\n",
    "        return list_alph + list_num\n",
    "\n",
    "solu = Solution()\n",
    "s = solu.reorderLogFiles(input1)\n",
    "print(s)"
   ]
  },
  {
   "cell_type": "markdown",
   "metadata": {},
   "source": [
    "## 가장 흔한 단어\n",
    "- 금지된 단어를 제외한 가장 흔하게 등장하는 단어를 출력하라. 대소문자 구분을 하지 않으며, 구두점(마침표, 쉼표 등) 또한 무시한다."
   ]
  },
  {
   "cell_type": "code",
   "execution_count": 42,
   "metadata": {},
   "outputs": [
    {
     "name": "stdout",
     "output_type": "stream",
     "text": [
      "ball\n"
     ]
    }
   ],
   "source": [
    "import collections\n",
    "input1 = \"Bob hit a ball, the hit BALL flew far after it was hit.\"\n",
    "banned1 = [\"hit\"]\n",
    "# output \"ball\"\n",
    "\n",
    "input2 = paragraph = \"a.\"\n",
    "banned2 = []\n",
    "# output : \"a\"\n",
    "\n",
    "class Solution:\n",
    "    def mostCommonWord(self, paragraph: str, banned: List[str]) -> str:\n",
    "        # 대소문자 구분 하지 않으며, 구두점 무시 \n",
    "        strs = [word for word in re.sub(\"[^a-zA-Z]\",\" \",paragraph).lower().split() if word not in banned]\n",
    "\n",
    "        # 종료조건 \n",
    "        if len(strs) < 1:\n",
    "            return strs[0] if len(strs) == 1 else \"\"\n",
    "        \n",
    "        counters = collections.Counter(strs)\n",
    "        return counters.most_common(1)[0][0]\n",
    "    \n",
    "solu = Solution()\n",
    "s = solu.mostCommonWord(input1,banned1)\n",
    "print(s)"
   ]
  },
  {
   "cell_type": "markdown",
   "metadata": {},
   "source": [
    "- collections.Counter 함수와 Counter.most_common 함수의 사용 방법과 output을 알아야 한다."
   ]
  },
  {
   "cell_type": "markdown",
   "metadata": {},
   "source": [
    "## 가장 긴 팰린드롬 부분 문자열 leetcode 5.\n",
    "input : \"babab\"   \n",
    "output : \"bab\" or \"aba\"\n",
    "\n",
    "input2:\"cbbd\"  \n",
    "output2:\"bb\"\n",
    "\n"
   ]
  },
  {
   "cell_type": "markdown",
   "metadata": {},
   "source": [
    "- 내 풀이 : 이중 for 문으로 다음 문자를 계속 받으면서 팰린드롬 확인, 가장 긴 팰린드롬 return \n",
    "if 문으로 긴 문자를 기준으로 for문 남은게 짧다면 끝내기 \n"
   ]
  },
  {
   "cell_type": "code",
   "execution_count": 20,
   "metadata": {},
   "outputs": [
    {
     "name": "stdout",
     "output_type": "stream",
     "text": [
      "'bb'\n",
      "'2345432'\n",
      "'bab'\n",
      "'bb'\n",
      "''\n"
     ]
    }
   ],
   "source": [
    "class Solution:\n",
    "    def longestPalindrome(self, s: str) -> str:\n",
    "        if len(s) < 2 or s[::]==s[::-1]: # end point \n",
    "            return s\n",
    "    \n",
    "        r = ''\n",
    "        for i in range(len(s)-1):\n",
    "            for j in range(i+1,len(s)):\n",
    "                st = s[int(i):int(j)+1]\n",
    "                if st == st[::-1]:\n",
    "                    r = max(r,st,key=len)\n",
    "        return r \n",
    "    \n",
    "s = Solution()\n",
    "print(repr(s.longestPalindrome(\"abb\")))\n",
    "print(repr(s.longestPalindrome(\"12345432\")))\n",
    "print(repr(s.longestPalindrome(\"babad\")))\n",
    "print(repr(s.longestPalindrome(\"cbbd\")))\n",
    "print(repr(s.longestPalindrome(\"ac\"))) # a "
   ]
  },
  {
   "cell_type": "markdown",
   "metadata": {},
   "source": [
    "- 문제 풀이 : 투포인터 방법을 이용   \n",
    "\n",
    "투포인터 종류 : 길이가 2인 포인터 / 길이가 3인 포인터     \n",
    "종료 조건은 길이가 1인 것과 문장 자체가 팰린드롬 인 것 \n",
    "   \n",
    "문제해결 포인트는 포인터에 팰린드롬인게 나왔다면 좌우로 하나씩 늘려가며, 확장시키는 것 "
   ]
  },
  {
   "cell_type": "code",
   "execution_count": 21,
   "metadata": {},
   "outputs": [
    {
     "name": "stdout",
     "output_type": "stream",
     "text": [
      "'bb'\n",
      "'2345432'\n",
      "'bab'\n",
      "'bb'\n",
      "'c'\n"
     ]
    }
   ],
   "source": [
    "class Solution:\n",
    "    def longestPalindrome(self, s: str) -> str:\n",
    "        def expand(left:int,right:int)->str:\n",
    "            while left >=0 and right <=len(s)-1 and s[left] == s[right]:\n",
    "                left -=1 \n",
    "                right +=1 \n",
    "                #print(left,right)\n",
    "            \n",
    "            return s[left+1:right] # while 통과하지 못했다면 이전으로 돌려와 팰린드롬 이므로 \n",
    "        \n",
    "        # 종료 조건 \n",
    "        if len(s)<2 or s == s[::-1]:\n",
    "            return s \n",
    "        r = \"\"\n",
    "        for i in range(len(s)-1):\n",
    "            r = max(r,\n",
    "                    expand(i,i+1),\n",
    "                    expand(i,i+2),\n",
    "                    key = len)\n",
    "        return r \n",
    "s = Solution()\n",
    "print(repr(s.longestPalindrome(\"abb\")))\n",
    "print(repr(s.longestPalindrome(\"12345432\")))\n",
    "print(repr(s.longestPalindrome(\"babad\")))\n",
    "print(repr(s.longestPalindrome(\"cbbd\")))\n",
    "print(repr(s.longestPalindrome(\"ac\"))) # a \n",
    "\n",
    "# 84 ms "
   ]
  },
  {
   "cell_type": "code",
   "execution_count": 22,
   "metadata": {},
   "outputs": [
    {
     "name": "stdout",
     "output_type": "stream",
     "text": [
      "'bb'\n",
      "'2345432'\n",
      "'bab'\n",
      "'bb'\n",
      "'a'\n"
     ]
    }
   ],
   "source": [
    "class Solution:\n",
    "    def longestPalindrome(self, s: str) -> str:\n",
    "        def expand(left:int,right:int)->str:\n",
    "            while left >=0 and right <=len(s) and s[left] == s[right-1]:\n",
    "                left -=1 \n",
    "                right +=1\n",
    "            return s[left+1:right-1]\n",
    "        \n",
    "        if len(s) <2 or s==s[::-1]:\n",
    "            return s \n",
    "        r = \"\"\n",
    "        for i in range(len(s)-1):\n",
    "            r = max(r,expand(i,i+1),expand(i,i+2),key = len)\n",
    "        return r\n",
    "    \n",
    "s = Solution()\n",
    "print(repr(s.longestPalindrome(\"abb\")))\n",
    "print(repr(s.longestPalindrome(\"12345432\")))\n",
    "print(repr(s.longestPalindrome(\"babad\")))\n",
    "print(repr(s.longestPalindrome(\"cbbd\")))\n",
    "print(repr(s.longestPalindrome(\"ac\"))) # a "
   ]
  },
  {
   "cell_type": "code",
   "execution_count": null,
   "metadata": {},
   "outputs": [],
   "source": []
  }
 ],
 "metadata": {
  "kernelspec": {
   "display_name": "Python 3",
   "language": "python",
   "name": "python3"
  },
  "language_info": {
   "codemirror_mode": {
    "name": "ipython",
    "version": 3
   },
   "file_extension": ".py",
   "mimetype": "text/x-python",
   "name": "python",
   "nbconvert_exporter": "python",
   "pygments_lexer": "ipython3",
   "version": "3.8.18"
  }
 },
 "nbformat": 4,
 "nbformat_minor": 2
}
