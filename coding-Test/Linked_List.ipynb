{
 "cells": [
  {
   "cell_type": "markdown",
   "metadata": {},
   "source": [
    "# 연결 리스트  \n",
    "- 컴퓨터 과학에서 배열과 함께 가장 기본이 되는 대표적인 선형 자료구조 중 하나로 다양한 추상자료형 구현의 기반이 된다. \n",
    "- 새로운 노드를 삽입하거나 삭제하기가 간편하며, 연결 구조를 통해 물리 메모리를 연속적으로 사용하지 않아도 되기 때문에 관리도 쉽다. \n",
    "\n",
    "- 데이터를 구조체로 묶어서 포인터로 연결한다는 개념은 여러 가지 방법으로 다양하게 활용이 가능하다. \n",
    "- 연결리스트는 배열과 달리 특정 인덱스에 접근하기 위해서는 전체를 순서대로 읽어야 하므로 상수 시간에 접근할 수 없다. 즉, 탐색에는 O(n)이 소요되는 반면 시작 또는 끝 지점에 아이템을 추가하거나, 삭제 추출하는 작업은 O(1)에 가능하다. \n",
    "\n"
   ]
  },
  {
   "cell_type": "markdown",
   "metadata": {},
   "source": [
    "## 팰린드롬 연결 리스트 leetcode 234 \n",
    "- 연결 리스트가 팬린드롬 구조인지 판별하라. \n"
   ]
  },
  {
   "cell_type": "code",
   "execution_count": 57,
   "metadata": {},
   "outputs": [],
   "source": [
    "# 리스트로 변환 후 풀이 \n",
    "from typing import Optional,List\n",
    "# Definition for singly-linked list.\n",
    "class ListNode:\n",
    "    def __init__(self, val=0, next=None):\n",
    "        self.val = val\n",
    "        self.next = next\n",
    "\n",
    "class Solution:\n",
    "    def isPalindrome(self, head: Optional[ListNode]) -> bool:\n",
    "        q : List =[]\n",
    "        if not head: # 종료조건 \n",
    "            return True \n",
    "        node = head \n",
    "        # 리스트 변환 \n",
    "        while node is not None:\n",
    "            q.append(node.val)\n",
    "            node =node.next\n",
    "        while len(q) >1:\n",
    "            if q.pop(0)!=q.pop():\n",
    "                return False\n",
    "        return True\n",
    "\n",
    "# deque 풀이는 두번째 while 문에서 pop(0)대신 popleft()를 사용한다. \n",
    "# O(n)과 O(1)의 차이임 "
   ]
  },
  {
   "cell_type": "code",
   "execution_count": null,
   "metadata": {},
   "outputs": [],
   "source": [
    "# 런너를 이용한 우아한 풀이 \n",
    "# 이 팰린드론 연결 리스트 문제의 제대로 된 풀이법은 런너(Runner)기법을 활용하는 것이다. \n",
    "# 그림을 그려가며 풀이하는게 조금 더 이해가 쉬움 \n",
    "\n",
    "def isPalindrome(self,head) ->bool:\n",
    "    rev = None \n",
    "\n",
    "    slow = fast = head # 초깃값 \n",
    "    \n",
    "    # 런너를 이용해 역순 연결리스트 작성 \n",
    "    while fast and fast.next:\n",
    "        fast = fast.next.next \n",
    "        rev,rev.next,slow = slow,rev,slow.next\n",
    "    # 길이가 홀수인지 판단하는 \n",
    "    if fast :\n",
    "        slow = slow.next\n",
    "    \n",
    "    # 팰린드롬 확인 \n",
    "    while rev and rev.val == slow.val:\n",
    "        slow,rev = slow.next,rev.next \n",
    "    return not rev \n",
    "\n",
    "    "
   ]
  },
  {
   "cell_type": "markdown",
   "metadata": {},
   "source": [
    "## Runner \n",
    "런너는 연결 리스트를 순회할 때 2개의 포인터를 동시에 사용하는 기법이다. \n",
    "한 포인터가 다른 포인터보다 앞서게 하여, 병합 지점이나 중간 위치, 길이 등을 판별할 때 유용하게 사용할 수 있다. \n",
    "\n",
    "2개의 포인터는 빠른 러너와 느린 러너라고 부르는데, 대개 빠른 러너는 두칸 씩 건너뛰고, 느린 러너는 한칸씩 이동하게 된다. 이때 빠른 러너가 연결리스트의 끝에 도달하면, 느린러너는 정확히 연결 리스트의 중간 지점을 가리키게 된다. \n",
    "\n",
    "이 같은 방식으로 중간 위치를 찾아내면, 여기서부터 값을 비교하거나, 뒤집기를 시도하는 등 여러모로 활용할 수 있어 연결 리스트 문제에서는 반드시 쓰이는 기법이다. "
   ]
  },
  {
   "cell_type": "markdown",
   "metadata": {},
   "source": []
  }
 ],
 "metadata": {
  "kernelspec": {
   "display_name": "DL-torch",
   "language": "python",
   "name": "python3"
  },
  "language_info": {
   "codemirror_mode": {
    "name": "ipython",
    "version": 3
   },
   "file_extension": ".py",
   "mimetype": "text/x-python",
   "name": "python",
   "nbconvert_exporter": "python",
   "pygments_lexer": "ipython3",
   "version": "3.8.18"
  }
 },
 "nbformat": 4,
 "nbformat_minor": 2
}
